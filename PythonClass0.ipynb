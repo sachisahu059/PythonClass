{
  "nbformat": 4,
  "nbformat_minor": 0,
  "metadata": {
    "colab": {
      "name": "PythonClass0.ipynb",
      "provenance": [],
      "collapsed_sections": [],
      "mount_file_id": "1CVp1cIfzvIzD1-oHJMTsdcSersnqQDQ9",
      "authorship_tag": "ABX9TyNy36aiFWpONdEcJgtYnfRB",
      "include_colab_link": true
    },
    "kernelspec": {
      "name": "python3",
      "display_name": "Python 3"
    },
    "language_info": {
      "name": "python"
    }
  },
  "cells": [
    {
      "cell_type": "markdown",
      "metadata": {
        "id": "view-in-github",
        "colab_type": "text"
      },
      "source": [
        "<a href=\"https://colab.research.google.com/github/sachisahu059/PythonClass/blob/master/PythonClass0.ipynb\" target=\"_parent\"><img src=\"https://colab.research.google.com/assets/colab-badge.svg\" alt=\"Open In Colab\"/></a>"
      ]
    },
    {
      "cell_type": "markdown",
      "metadata": {
        "id": "AxG257ks3LsN"
      },
      "source": [
        "# **Date: Dec4th, 2021 **"
      ]
    },
    {
      "cell_type": "code",
      "metadata": {
        "id": "kF6azN1m2VCT"
      },
      "source": [
        ""
      ],
      "execution_count": null,
      "outputs": []
    },
    {
      "cell_type": "code",
      "metadata": {
        "id": "cMTWVnJv3ZeR"
      },
      "source": [
        ""
      ],
      "execution_count": null,
      "outputs": []
    }
  ]
}